{
 "cells": [
  {
   "cell_type": "markdown",
   "id": "9cb88a9a-7e67-4828-81a5-05b705e37493",
   "metadata": {},
   "source": [
    "---\n",
    "title: Climate Data Store (CDS)\n",
    "short_title: Climate Data Store\n",
    "---"
   ]
  },
  {
   "cell_type": "markdown",
   "id": "a2b7f157-392f-42b3-b72e-6ec4e742052d",
   "metadata": {},
   "source": [
    "In this notebook we show how to download daily precipitation data from the European Centre for Medium-Range Weather Forecasts (ECMWF). The ECMWF hosts a large amount of datasets on their [Climate Data Store (CDS)](https://cds.climate.copernicus.eu/datasets) platform. This includes various reanalysis datasets on a large number of weather phenomenon, as well as global forecasting products. The full list of available datasets can be found [on their datasets page](https://cds.climate.copernicus.eu/datasets)."
   ]
  },
  {
   "cell_type": "markdown",
   "id": "f6a78a31-fb33-4018-bda1-439cd8b530cd",
   "metadata": {},
   "source": [
    "## Steps for downloading the data"
   ]
  },
  {
   "cell_type": "markdown",
   "id": "9d0f95c5-ae29-425d-af44-b16e29e87de4",
   "metadata": {},
   "source": [
    "The first thing we have to do is create a ECMWF user, which gives you free access to the CDS catalog:\n",
    "- https://www.ecmwf.int/user/login"
   ]
  },
  {
   "cell_type": "markdown",
   "id": "b186e1a8-9f55-4fc8-b688-45734c2791fc",
   "metadata": {},
   "source": [
    "For this particular excercise, we will use the dataset: \n",
    "- [\"ERA5-Land hourly data from 1950 to present\"](https://cds.climate.copernicus.eu/datasets/reanalysis-era5-land)"
   ]
  },
  {
   "cell_type": "markdown",
   "id": "4d45a6a7-bdb1-4239-bc33-160a9e080b9f",
   "metadata": {},
   "source": [
    "If you click on the \"Dataset\" tab, you will see several sections that need to be filled out before you can download the data:"
   ]
  },
  {
   "cell_type": "markdown",
   "id": "46d9e6b1-f5d3-42d4-87ee-7836241e5bb7",
   "metadata": {},
   "source": [
    "![CDS Download Page](./images/ecmwf-cds-download-page.png)"
   ]
  },
  {
   "cell_type": "markdown",
   "id": "97f2bb5a-5a20-410b-9855-95139465f3cb",
   "metadata": {},
   "source": [
    "### Variable\n",
    "\n",
    "In the category \"Wind, Pressure and Precipitation\":\n",
    "\n",
    "- Select \"Total precipitation\"."
   ]
  },
  {
   "cell_type": "markdown",
   "id": "e35aaa84-155d-4384-a937-71a19886918a",
   "metadata": {},
   "source": [
    "### Year and Month\n",
    "\n",
    "- Choose the year and month for which you want to download data.\n",
    "\n",
    "### Day\n",
    "\n",
    "- Click \"Select all\" to download for all available dates of the selected month.\n",
    "\n",
    "### Time\n",
    "\n",
    "This dataset contains hourly measurements, and we need all of them to compute daily statistics later on. \n",
    "\n",
    "- Click \"Select all\".\n",
    "\n",
    "### Geographical Area\n",
    "\n",
    "To avoid downloading data for the entire world, which can be quite large, we want to limit the download to only the country or region that we are interested in. \n",
    "\n",
    "- Click \"Sub-region extraction\".\n",
    "- Manually set the West/East/South/North extent of the region of interest. If you don't know how to set these, there's a simple online tool that can help:\n",
    "    - Go to http://bboxfinder.com\n",
    "    - Zoom in to the region of interest.\n",
    "      ![Screenshot of bboxfinder.com](./images/bboxfinder.png)\n",
    "    - Copy and insert the coordinates from the bottom of the page under \"Map\", which are shown in the order of \"West, South, East, North\".\n",
    "\n",
    "### Data Format\n",
    "\n",
    "- Select \"NetCDF4\"\n",
    "\n",
    "### Download format\n",
    "\n",
    "- Select \"Zip\" to reduce the size of the download file, but either option is fine.\n",
    "\n",
    "### Terms of Use\n",
    "\n",
    "- **This step is important**: Before you can download you have to log in with your user and manually accept the terms of reference for this dataset. This is only needed once for each dataset.\n",
    "\n",
    "### Download the data\n",
    "\n",
    "If you have followed the previous steps you should be able to:\n",
    "\n",
    "- Click the \"Submit Form\" button towards the bottom of the page.\n",
    "- You'll be taken to a page where you can see the status of your download request.\n",
    "- Once the \"Status\" changes to \"Complete\", you can click \"Download\" to download your requested file to you computer."
   ]
  },
  {
   "cell_type": "markdown",
   "id": "f359ff51",
   "metadata": {},
   "source": [
    "### Next steps\n",
    "\n",
    "At this point you have successfully retrieved a NetCDF file (`.nc` extension) containing total precipitation data for a region of interest, for every hour in the selected month.\n",
    "\n",
    "Note that hourly precipitation is probably too detailed for many use-uses; instead you might want to aggregate the data to daily, weekly, or monthly time period. For help getting started with aggregation, check out the [Notebook tutorial for Aggregating data from NetCDF files](../aggregation/earthkit-netcdf.ipynb). "
   ]
  }
 ],
 "metadata": {
  "kernelspec": {
   "display_name": "climate-tools-new",
   "language": "python",
   "name": "python3"
  },
  "language_info": {
   "codemirror_mode": {
    "name": "ipython",
    "version": 3
   },
   "file_extension": ".py",
   "mimetype": "text/x-python",
   "name": "python",
   "nbconvert_exporter": "python",
   "pygments_lexer": "ipython3",
   "version": "3.13.7"
  }
 },
 "nbformat": 4,
 "nbformat_minor": 5
}
