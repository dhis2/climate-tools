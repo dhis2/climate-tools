{
 "cells": [
  {
   "cell_type": "markdown",
   "id": "9cb88a9a-7e67-4828-81a5-05b705e37493",
   "metadata": {},
   "source": [
    "---\n",
    "title: Getting daily precipitation from ECMWF Climate Data Store\n",
    "short_title: Getting CDS precipitation data\n",
    "---"
   ]
  },
  {
   "cell_type": "markdown",
   "id": "a2b7f157-392f-42b3-b72e-6ec4e742052d",
   "metadata": {},
   "source": [
    "In this notebook we show how to download daily precipitation data from the European Centre for Medium-Range Weather Forecasts (ECMWF). The ECMWF hosts a large amount of datasets on their [Climate Data Store (CDS)](https://cds.climate.copernicus.eu/datasets) platform. This includes various reanalysis datasets on a large number of weather phenomenon, as well as global forecasting products. The full list of available datasets can be found [on their datasets page](https://cds.climate.copernicus.eu/datasets)."
   ]
  },
  {
   "cell_type": "markdown",
   "id": "f6a78a31-fb33-4018-bda1-439cd8b530cd",
   "metadata": {},
   "source": [
    "## Manually downloading the data"
   ]
  },
  {
   "cell_type": "markdown",
   "id": "9d0f95c5-ae29-425d-af44-b16e29e87de4",
   "metadata": {},
   "source": [
    "The first thing we have to do is create a ECMWF user, which gives you free access to the CDS catalog:\n",
    "- https://www.ecmwf.int/user/login"
   ]
  },
  {
   "cell_type": "markdown",
   "id": "b186e1a8-9f55-4fc8-b688-45734c2791fc",
   "metadata": {},
   "source": [
    "For this particular excercise, we will use the dataset: \n",
    "- [\"ERA5-Land hourly data from 1950 to present\"](https://cds.climate.copernicus.eu/datasets/reanalysis-era5-land)"
   ]
  },
  {
   "cell_type": "markdown",
   "id": "4d45a6a7-bdb1-4239-bc33-160a9e080b9f",
   "metadata": {},
   "source": [
    "If you click on the \"Dataset\" tab, you will see something like this:"
   ]
  },
  {
   "cell_type": "markdown",
   "id": "46d9e6b1-f5d3-42d4-87ee-7836241e5bb7",
   "metadata": {},
   "source": [
    "![CDS Download Page](./images/ecmwf-cds-download-page.png)"
   ]
  },
  {
   "cell_type": "markdown",
   "id": "97f2bb5a-5a20-410b-9855-95139465f3cb",
   "metadata": {},
   "source": [
    "### Variable\n",
    "\n",
    "In the category \"Wind, Pressure and Precipitation\", select \"Total precipitation\" to download."
   ]
  },
  {
   "cell_type": "markdown",
   "id": "e35aaa84-155d-4384-a937-71a19886918a",
   "metadata": {},
   "source": [
    "### Year and Month\n",
    "\n",
    "- Choose the year and month for which you want to download data.\n",
    "\n",
    "### Day\n",
    "\n",
    "- Click \"Select all\" to download for all available dates of the selected month.\n",
    "\n",
    "### Time\n",
    "\n",
    "This dataset contains hourly measurements, and we need all of them to compute daily statistics later on. \n",
    "\n",
    "- Click \"Select all\".\n",
    "\n",
    "### Geographical Area\n",
    "\n",
    "To avoid downloading data for the entire world, which can be quite large, we want to limit the download to only the country or region that we are interested in. \n",
    "\n",
    "- Click \"Sub-region extraction\".\n",
    "- Manually set the minimum and maximum coordinate extent of the region of interest. If you don't know how to set these, there's a simple online tool that can help:\n",
    "    - Go to http://bboxfinder.com\n",
    "    - Zoom in to the region of interest.\n",
    "      ![Screenshot of bboxfinder.com](./images/bboxfinder.png)\n",
    "    - Copy and insert the coordinates from the bottom of the page under \"Map\", which are shown in the order of \"West, South, East, North\".\n",
    "\n",
    "### Data Format\n",
    "\n",
    "- Select \"NetCDF4\"\n",
    "\n",
    "### Download format\n",
    "\n",
    "- Select \"Zip\" to reduce the size of the download file, but either option is fine.\n",
    "\n",
    "### Terms of Use\n",
    "\n",
    "- **This step is important**: Before you can download you have to log in with your user and manually accept the terms of reference for this dataset. This is only needed once for each dataset.\n",
    "\n",
    "### Download the data\n",
    "\n",
    "If you have followed the previous steps you should be able to:\n",
    "\n",
    "- Click the \"Submit Form\" button towards the bottom of the page.\n",
    "- You'll be taken to a page where you can see the status of your download request.\n",
    "- Once the \"Status\" changes to \"Complete\", you can click \"Download\" to download your requested file to you computer.\n",
    "\n",
    "\n",
    "At this point you have successfully retrieved a NetCDF file (`.nc` extension) containing total precipitation data for a region of interest, which can be used for further processing using the other guides and tutorials on this website, like the [Notebook tutorial for Aggregating data from NetCDF files](../aggregation/earthkit-netcdf.ipynb). "
   ]
  },
  {
   "cell_type": "markdown",
   "id": "1495a8b4-1170-4d7f-8fdf-0d6f2b061da2",
   "metadata": {},
   "source": [
    "## Automatically downloading the data"
   ]
  },
  {
   "cell_type": "markdown",
   "id": "309ac329-06d9-4f55-9448-af692f765114",
   "metadata": {},
   "source": [
    "You probably noticed in the previous section, that manually downloading data is limited to a single month at a time, and requires a few manual steps for each time. For longer timeseries data, this can be time-consuming and slow to manually download each file. "
   ]
  },
  {
   "cell_type": "markdown",
   "id": "8cb8606c-022d-4601-b5d5-e40cb95cf379",
   "metadata": {},
   "source": [
    "Fortunately, the `earthkit.data` package includes a way to programmatically retreive the data from the CDS API. "
   ]
  },
  {
   "cell_type": "code",
   "execution_count": 1,
   "id": "b9b4f62f-812a-475b-a5c1-60eb633972a8",
   "metadata": {},
   "outputs": [],
   "source": [
    "import earthkit.data"
   ]
  },
  {
   "cell_type": "markdown",
   "id": "d9f3e098-3f4b-4964-b2ea-e9bcc25b471f",
   "metadata": {},
   "source": [
    "### Authenticating with your ECMWF user"
   ]
  },
  {
   "cell_type": "markdown",
   "id": "99aa5936-fa7d-4d78-9854-eab554ca6952",
   "metadata": {},
   "source": [
    "Before we can download the dataset programmatically, we need to authenticate using our user credentials:\n",
    "\n",
    "- ..."
   ]
  },
  {
   "cell_type": "markdown",
   "id": "17bdbd48-3733-4a9f-9291-c83baa04b142",
   "metadata": {},
   "source": [
    "### Constructing the request query"
   ]
  },
  {
   "cell_type": "markdown",
   "id": "8de0b184-6294-4e63-afe6-8c21d04ee41d",
   "metadata": {},
   "source": [
    "Next, to obtain the correct parameters to use for this, you can return to the data request page you filled out earlier. \n",
    "\n",
    "- At the bottom of the page, click \"Show API Request Code\" in the \"API Request\" section.\n",
    "- This should show something like this:\n",
    "\n",
    "    ![Screenshot of CDS API request code](./images/ecmwf-cds-api-request-params.png)\n",
    "\n",
    "        import cdsapi\n",
    "\n",
    "        dataset = \"reanalysis-era5-land\"\n",
    "        request = {\n",
    "            \"variable\": [\"total_precipitation\"],\n",
    "            \"year\": \"2025\",\n",
    "            \"month\": \"09\",\n",
    "            \"day\": [\n",
    "                \"01\", \"02\", \"03\",\n",
    "                \"04\", \"05\", \"06\",\n",
    "                \"07\", \"08\", \"09\",\n",
    "                \"10\", \"11\", \"12\",\n",
    "                \"13\", \"14\", \"15\",\n",
    "                \"16\", \"17\"\n",
    "            ],\n",
    "            \"time\": [\n",
    "                \"00:00\", \"01:00\", \"02:00\",\n",
    "                \"03:00\", \"04:00\", \"05:00\",\n",
    "                \"06:00\", \"07:00\", \"08:00\",\n",
    "                \"09:00\", \"10:00\", \"11:00\",\n",
    "                \"12:00\", \"13:00\", \"14:00\",\n",
    "                \"15:00\", \"16:00\", \"17:00\",\n",
    "                \"18:00\", \"19:00\", \"20:00\",\n",
    "                \"21:00\", \"22:00\", \"23:00\"\n",
    "            ],\n",
    "            \"data_format\": \"netcdf\",\n",
    "            \"download_format\": \"unarchived\",\n",
    "            \"area\": [-9.223115, 26.677001, -17.666611, 43.387206]\n",
    "        }\n",
    "        \n",
    "        client = cdsapi.Client()\n",
    "        client.retrieve(dataset, request).download()"
   ]
  },
  {
   "cell_type": "markdown",
   "id": "0ee0b599-21d0-4776-b55e-1434fbe87946",
   "metadata": {},
   "source": [
    "Earthkit uses `cdsapi` in the background, so we can copy these parameter values to fill in the parameters required by `earthkit`:"
   ]
  },
  {
   "cell_type": "code",
   "execution_count": 6,
   "id": "7017791f-2ecc-44a7-83e7-f512a8e65113",
   "metadata": {},
   "outputs": [
    {
     "ename": "SyntaxError",
     "evalue": "invalid syntax. Perhaps you forgot a comma? (1498663408.py, line 7)",
     "output_type": "error",
     "traceback": [
      "  \u001b[36mCell\u001b[39m\u001b[36m \u001b[39m\u001b[32mIn[6]\u001b[39m\u001b[32m, line 7\u001b[39m\n\u001b[31m    \u001b[39m\u001b[31mtime=\"12:00\"\u001b[39m\n         ^\n\u001b[31mSyntaxError\u001b[39m\u001b[31m:\u001b[39m invalid syntax. Perhaps you forgot a comma?\n"
     ]
    }
   ],
   "source": [
    "data = earthkit.data.from_source(\"cds\",\n",
    "    \"reanalysis-era5-land\",\n",
    "    variable=[\"total_precipitation\"], # you can also include additional variables here to include multiple variables in the same download file\n",
    "    product_type=\"reanalysis\",\n",
    "    area=[-9.223115, 26.677001, -17.666611, 43.387206], #N,W,S,E\n",
    "    date=\"2012-05-10\",\n",
    "    time=\"12:00\"\n",
    "    ...need to figure out the correct earthit syntax here\n",
    ")"
   ]
  },
  {
   "cell_type": "markdown",
   "id": "96d42076-db39-426b-b617-c7a481196d25",
   "metadata": {},
   "source": [
    "### Inspect the data\n",
    "\n",
    "Once the data has finished downloaded, you can then inspect the data: "
   ]
  },
  {
   "cell_type": "code",
   "execution_count": 7,
   "id": "c057ce00-ba14-440b-9484-d240c8c43c14",
   "metadata": {},
   "outputs": [
    {
     "ename": "NameError",
     "evalue": "name 'data' is not defined",
     "output_type": "error",
     "traceback": [
      "\u001b[31m---------------------------------------------------------------------------\u001b[39m",
      "\u001b[31mNameError\u001b[39m                                 Traceback (most recent call last)",
      "\u001b[36mCell\u001b[39m\u001b[36m \u001b[39m\u001b[32mIn[7]\u001b[39m\u001b[32m, line 1\u001b[39m\n\u001b[32m----> \u001b[39m\u001b[32m1\u001b[39m \u001b[43mdata\u001b[49m\n",
      "\u001b[31mNameError\u001b[39m: name 'data' is not defined"
     ]
    }
   ],
   "source": [
    "data"
   ]
  },
  {
   "cell_type": "markdown",
   "id": "58a7dcff-be40-4062-82f7-b7274d808195",
   "metadata": {},
   "source": [
    "### Save to file\n",
    "\n",
    "Finally, save the data to file:"
   ]
  },
  {
   "cell_type": "code",
   "execution_count": 8,
   "id": "1016a1cd-02ec-4342-80e2-65f0906a3496",
   "metadata": {},
   "outputs": [
    {
     "ename": "NameError",
     "evalue": "name 'data' is not defined",
     "output_type": "error",
     "traceback": [
      "\u001b[31m---------------------------------------------------------------------------\u001b[39m",
      "\u001b[31mNameError\u001b[39m                                 Traceback (most recent call last)",
      "\u001b[36mCell\u001b[39m\u001b[36m \u001b[39m\u001b[32mIn[8]\u001b[39m\u001b[32m, line 1\u001b[39m\n\u001b[32m----> \u001b[39m\u001b[32m1\u001b[39m \u001b[43mdata\u001b[49m.save(...)\n",
      "\u001b[31mNameError\u001b[39m: name 'data' is not defined"
     ]
    }
   ],
   "source": [
    "data.save(...)"
   ]
  },
  {
   "cell_type": "markdown",
   "id": "ca798578-1b1e-4bfa-85e2-10b30b0bb787",
   "metadata": {},
   "source": [
    "### How to download many months? \n",
    "\n",
    "One of the benefits of using earthkit to download CDS data, is that we can loop through the months we are interested in and download all with a single script. Here's one possible way of automatic this process: "
   ]
  }
 ],
 "metadata": {
  "kernelspec": {
   "display_name": "Python 3 (ipykernel)",
   "language": "python",
   "name": "python3"
  },
  "language_info": {
   "codemirror_mode": {
    "name": "ipython",
    "version": 3
   },
   "file_extension": ".py",
   "mimetype": "text/x-python",
   "name": "python",
   "nbconvert_exporter": "python",
   "pygments_lexer": "ipython3",
   "version": "3.13.7"
  }
 },
 "nbformat": 4,
 "nbformat_minor": 5
}
