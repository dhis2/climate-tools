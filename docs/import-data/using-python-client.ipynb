{
 "cells": [
  {
   "cell_type": "markdown",
   "id": "e74b011a",
   "metadata": {},
   "source": [
    "---\n",
    "title: Importing data using dhis2-python-client\n",
    "short_title: Using python client\n",
    "---\n",
    "\n",
    "This section walks you through importing data values into DHIS2 using the **`dhis2-python-client`** library.\n",
    "\n",
    "**Below are crucial steps to follow:**\n",
    "- Get credentials\n",
    "- Connect to DHIS2 and verify access\n",
    "- Build a valid `dataValueSets` payload (JSON or CSV)\n",
    "- Send your payload"
   ]
  },
  {
   "cell_type": "markdown",
   "id": "09a14f52",
   "metadata": {},
   "source": [
    "## 1) Configure your environment and connect to DHIS2"
   ]
  },
  {
   "cell_type": "code",
   "execution_count": 19,
   "id": "de00fa95",
   "metadata": {},
   "outputs": [
    {
     "name": "stdout",
     "output_type": "stream",
     "text": [
      "▶ Current DHIS2 version: 2.42.2-SNAPSHOT\n"
     ]
    }
   ],
   "source": [
    "import pandas as pd\n",
    "from dhis2_client import DHIS2Client\n",
    "from dhis2_client.settings import ClientSettings\n",
    "\n",
    "# Client configuration\n",
    "cfg = ClientSettings(\n",
    "  base_url=\"http://localhost:8080\",\n",
    "  username=\"admin\",\n",
    "  password=\"district\")\n",
    "\n",
    "client = DHIS2Client(settings=cfg)\n",
    "info = client.get_system_info()\n",
    "\n",
    "# Check if everything is working.\n",
    "# You should see your current DHIS2 version info.\n",
    "print(\"▶ Current DHIS2 version:\", info[\"version\"])\n"
   ]
  },
  {
   "cell_type": "markdown",
   "id": "9ba170d6",
   "metadata": {},
   "source": [
    "## 2) Construct payload\n",
    "\n",
    "Data values can be sent to DHIS2 one-by-one or in batch. The one-by-one approach is very handy especially when users are entering data manually. For batch import DHIS2 provides `dataValueSets` endpint. Below is a sample payload demonstrating batch data import."
   ]
  },
  {
   "cell_type": "code",
   "execution_count": null,
   "id": "155aacf3",
   "metadata": {},
   "outputs": [],
   "source": [
    "data = {\n",
    "    \"dataValues\": [\n",
    "        {\n",
    "            \"orgUnit\": \"O6uvpzGd5pu\",\n",
    "            \"period\": \"20250101\",\n",
    "            \"value\": \"23.68\",\n",
    "            \"dataElement\": \"VJwwPOOvge6\"\n",
    "        },\n",
    "        {\n",
    "            \"orgUnit\": \"fdc6uOvgoji\",\n",
    "            \"period\": \"20250101\",\n",
    "            \"value\": \"23.96\",\n",
    "            \"dataElement\": \"VJwwPOOvge6\"\n",
    "        },\n",
    "        {\n",
    "            \"orgUnit\": \"lc3eMKXaEfw\",\n",
    "            \"period\": \"20250101\",\n",
    "            \"value\": \"24.52\",\n",
    "            \"dataElement\": \"VJwwPOOvge6\"\n",
    "        },\n",
    "        {\n",
    "            \"orgUnit\": \"jUb8gELQApl\",\n",
    "            \"period\": \"20250101\",\n",
    "            \"value\": \"23.06\",\n",
    "            \"dataElement\": \"VJwwPOOvge6\"\n",
    "        },\n",
    "        {\n",
    "            \"orgUnit\": \"PMa2VCrupOd\",\n",
    "            \"period\": \"20250101\",\n",
    "            \"value\": \"24.45\",\n",
    "            \"dataElement\": \"VJwwPOOvge6\"\n",
    "        },\n",
    "        {\n",
    "            \"orgUnit\": \"kJq2mPyFEHo\",\n",
    "            \"period\": \"20250101\",\n",
    "            \"value\": \"23.27\",\n",
    "            \"dataElement\": \"VJwwPOOvge6\"\n",
    "        }\n",
    "    ]\n",
    "}"
   ]
  },
  {
   "cell_type": "markdown",
   "id": "e4a38ae5",
   "metadata": {},
   "source": [
    "## 3) Send your payload\n",
    "\n",
    "Once we are done preparing our payload we can proceed to send it to DHIS2. `dhis2-python-client` provides both direct access to raw DHIS2 API like `client.post(/api/dataValueSets, ...)` and convenient method like `client.post_data_value_set(...)`. Since we saw convenient methods in the above metadata creation steps, let's use raw DHIS2 API access this time."
   ]
  },
  {
   "cell_type": "code",
   "execution_count": null,
   "id": "86cb6e2b",
   "metadata": {},
   "outputs": [],
   "source": [
    "res = client.post(\"/api/dataValueSets\", json=data)"
   ]
  },
  {
   "cell_type": "markdown",
   "id": "a5de68d8",
   "metadata": {},
   "source": [
    "\n",
    "## 4) Troubleshooting\n",
    "\n",
    "- **Unauthorized**: Check credentials and user permissions.  \n",
    "- **Not found**: Verify data element, org unit, and combos (if you have used non-default ones) exist.  \n",
    "- **Conflicts**: Ensure dataset assignments and period are correct.  \n",
    "- **Locked periods**: Unlock dataset period if needed.  \n",
    "- **Value types**: Match the data element value type.  \n"
   ]
  },
  {
   "cell_type": "code",
   "execution_count": null,
   "id": "18132dbc",
   "metadata": {},
   "outputs": [],
   "source": []
  }
 ],
 "metadata": {
  "kernelspec": {
   "display_name": "Python 3 (ipykernel)",
   "language": "python",
   "name": "python3"
  },
  "language_info": {
   "codemirror_mode": {
    "name": "ipython",
    "version": 3
   },
   "file_extension": ".py",
   "mimetype": "text/x-python",
   "name": "python",
   "nbconvert_exporter": "python",
   "pygments_lexer": "ipython3",
   "version": "3.8.10"
  }
 },
 "nbformat": 4,
 "nbformat_minor": 5
}
