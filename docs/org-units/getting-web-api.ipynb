{
 "cells": [
  {
   "cell_type": "markdown",
   "id": "4c8e54f2",
   "metadata": {},
   "source": [
    "---\n",
    "title: Getting org units from DHIS2 Web API\n",
    "short_title: Getting from Web API\n",
    "---"
   ]
  },
  {
   "cell_type": "markdown",
   "id": "ef0392bd",
   "metadata": {},
   "source": [
    "This page shows practical ways to fetch organisation unit (OU) data from the DHIS2 Web API using `dhis2-python-client` library.\n",
    "\n",
    "In the **climate-tools** environment, `dhis2-python-client` library is already installed. You only need to come up with your DHIS2 credentials and server address to use this library. Below is a basic usage:"
   ]
  },
  {
   "cell_type": "code",
   "execution_count": 1,
   "id": "519e4d4f",
   "metadata": {
    "editable": true,
    "slideshow": {
     "slide_type": ""
    },
    "tags": []
   },
   "outputs": [
    {
     "name": "stdout",
     "output_type": "stream",
     "text": [
      "▶ Current DHIS2 version:  2.42.2-SNAPSHOT\n"
     ]
    }
   ],
   "source": [
    "from itertools import islice\n",
    "import pprint\n",
    "\n",
    "from dhis2_client import DHIS2Client\n",
    "from dhis2_client.settings import ClientSettings\n",
    "\n",
    "# Client configuration\n",
    "cfg = ClientSettings(\n",
    "  base_url=\"http://localhost:8080\",\n",
    "  username=\"admin\",\n",
    "  password=\"district\")\n",
    "\n",
    "client = DHIS2Client(settings=cfg)\n",
    "info = client.get_system_info()\n",
    "\n",
    "# Check if everything is working.\n",
    "# You should see your current DHIS2 version info.\n",
    "print(\"▶ Current DHIS2 version: \", info[\"version\"])"
   ]
  },
  {
   "cell_type": "markdown",
   "id": "0f031332",
   "metadata": {
    "editable": true,
    "jupyter": {
     "source_hidden": true
    },
    "slideshow": {
     "slide_type": ""
    },
    "tags": []
   },
   "source": [
    "Once you are sure to be able to make connection with your DHIS2 instance, you can proceed to fetching orgunits. But first you need to decide which orgunit(s) to fetch. The library offers a couple of handy methods for this. Please see [the readme file](https://github.com/dhis2/dhis2-python-client) for more usage examples of the library.\n",
    "\n",
    "### List OUs by level (auto‑paged)"
   ]
  },
  {
   "cell_type": "code",
   "execution_count": 2,
   "id": "72942972",
   "metadata": {
    "scrolled": true,
    "tags": [
     "scroll-output",
     "output_scroll"
    ]
   },
   "outputs": [
    {
     "name": "stdout",
     "output_type": "stream",
     "text": [
      "▶ Fetching orgunits at level 3 (first 10 ous shown as sample):\n",
      "YuQRtpLP10I · Badjia\n",
      "jPidqyo7cpF · Bagruwa\n",
      "vWbkYPRmKyS · Baoma\n",
      "dGheVylzol6 · Bargbe\n",
      "zFDYIgyGmXG · Bargbo\n",
      "RzKeCma9qb1 · Barri\n",
      "EB1zRKdYjdY · Bendu Cha\n",
      "fwH9ipvXde9 · Biriwa\n",
      "ENHOJz3UH5L · BMC\n",
      "KKkLOTpMXGV · Bombali Sebora\n",
      "… (more not shown)\n"
     ]
    }
   ],
   "source": [
    "\n",
    "print(\"▶ Fetching orgunits at level 3 (first 10 ous shown as sample):\")\n",
    "for ou in islice(client.get_organisation_units(level=3, fields=\"id,name\", order=\"name:asc\"),10):\n",
    "    print(f\"{ou['id']} · {ou['name']}\")\n",
    "print(\"… (more not shown)\")"
   ]
  },
  {
   "cell_type": "markdown",
   "id": "f86a7c78",
   "metadata": {},
   "source": [
    "### Fetch all OUs in the system"
   ]
  },
  {
   "cell_type": "code",
   "execution_count": 3,
   "id": "f349b553",
   "metadata": {},
   "outputs": [
    {
     "name": "stdout",
     "output_type": "stream",
     "text": [
      "▶ Total number of ous available:  1332\n"
     ]
    }
   ],
   "source": [
    "ous = list(client.get_organisation_units())\n",
    "print(\"▶ Total number of ous available: \", len(ous))"
   ]
  },
  {
   "cell_type": "markdown",
   "id": "35ec29d2",
   "metadata": {},
   "source": [
    "`client.get_organisation_units()` returns an `Iterable` and can be converted to a `List` of Dict for further processing. However, please be careful of memory usage if you have a huge number of org units in your system.\n",
    "\n",
    "While `.get_organisation_units(...)`is a convenient method to faciliate page by page data fetching, the library also allows a raw access where you can pass filters and params direct to DHIS2 API. Below is an example:\n",
    "\n",
    "### Get a single OU by UID"
   ]
  },
  {
   "cell_type": "code",
   "execution_count": 19,
   "id": "269379bf",
   "metadata": {},
   "outputs": [
    {
     "name": "stdout",
     "output_type": "stream",
     "text": [
      "▶ Fetched org unit O6uvpzGd5pu: {'name': 'Bo', 'parent': {'id': 'ImspTQPwCqd'}, 'id': 'O6uvpzGd5pu', 'level': 2}\n"
     ]
    }
   ],
   "source": [
    "ou_id = \"O6uvpzGd5pu\"  # Change this to your desired org unit ID\n",
    "fields = \"id,name,level,parent\"\n",
    "org_unit = client.get(\"/api/organisationUnits/\" + ou_id, params={\"fields\": \"id,name,level,parent\"})\n",
    "print(f\"▶ Fetched org unit {ou_id}: {org_unit}\")"
   ]
  },
  {
   "cell_type": "markdown",
   "id": "739ef79f",
   "metadata": {},
   "source": [
    "### Fetch multiple organisation units by IDs"
   ]
  },
  {
   "cell_type": "code",
   "execution_count": null,
   "id": "0ec9b58b",
   "metadata": {},
   "outputs": [
    {
     "name": "stdout",
     "output_type": "stream",
     "text": [
      "▶ Fetching multiple org units by IDs...\n",
      "O6uvpzGd5pu Bo\n",
      "ImspTQPwCqd Sierra Leone\n"
     ]
    }
   ],
   "source": [
    "# IDs of org units to fetch:\n",
    "ou_ids = [\"ImspTQPwCqd\", \"O6uvpzGd5pu\"]\n",
    "\n",
    "# Call the raw API with the `ids` as filter\n",
    "resp = client.get(\n",
    "    \"/api/organisationUnits\",\n",
    "    params={\n",
    "        \"fields\": \"id,displayName,parent[id,displayName]\",\n",
    "        \"filter\": \"id:in:[\" + \",\".join(ou_ids) + \"]\",\n",
    "    },\n",
    ")\n",
    "\n",
    "print(\"▶ Fetching multiple org units by IDs...\")\n",
    "for ou in resp[\"organisationUnits\"]:\n",
    "    print(ou[\"id\"], ou[\"displayName\"])"
   ]
  },
  {
   "cell_type": "code",
   "execution_count": null,
   "id": "44a2ecab-6184-4ba3-9756-778dcff0b687",
   "metadata": {},
   "outputs": [],
   "source": []
  }
 ],
 "metadata": {
  "kernelspec": {
   "display_name": "Python (.venv climate-tools)",
   "language": "python",
   "name": "climate-tools"
  },
  "language_info": {
   "codemirror_mode": {
    "name": "ipython",
    "version": 3
   },
   "file_extension": ".py",
   "mimetype": "text/x-python",
   "name": "python",
   "nbconvert_exporter": "python",
   "pygments_lexer": "ipython3",
   "version": "3.12.10"
  },
  "short_title": "Getting from Web API",
  "title": "Getting org units from DHIS2 Web API"
 },
 "nbformat": 4,
 "nbformat_minor": 5
}
