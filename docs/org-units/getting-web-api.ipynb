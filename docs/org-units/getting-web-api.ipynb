{
 "cells": [
  {
   "cell_type": "markdown",
   "id": "4c8e54f2",
   "metadata": {},
   "source": [
    "---\n",
    "title: Getting org units from DHIS2 Web API\n",
    "short_title: Getting from Web API\n",
    "---"
   ]
  },
  {
   "cell_type": "markdown",
   "id": "ef0392bd",
   "metadata": {},
   "source": [
    "This page shows practical ways to fetch organisation unit geojson from the DHIS2 Web API using `dhis2-python-client` library.\n",
    "\n",
    "In the **climate-tools** environment, `dhis2-python-client` library is already installed. You only need to come up with your DHIS2 credentials and server address to use this library. Below is a basic usage:"
   ]
  },
  {
   "cell_type": "code",
   "execution_count": null,
   "id": "519e4d4f",
   "metadata": {
    "editable": true,
    "slideshow": {
     "slide_type": ""
    },
    "tags": []
   },
   "outputs": [
    {
     "name": "stdout",
     "output_type": "stream",
     "text": [
      "▶ Current DHIS2 version: 2.42.2\n"
     ]
    }
   ],
   "source": [
    "from dhis2_client import DHIS2Client\n",
    "from dhis2_client.settings import ClientSettings\n",
    "\n",
    "# Client configuration\n",
    "cfg = ClientSettings(\n",
    "  base_url=\"http://localhost:8080\",\n",
    "  username=\"admin\",\n",
    "  password=\"district\")\n",
    "\n",
    "client = DHIS2Client(settings=cfg)\n",
    "info = client.get_system_info()\n",
    "\n",
    "# Check if everything is working.\n",
    "# You should see your current DHIS2 version info.\n",
    "print(\"▶ Current DHIS2 version:\", info[\"version\"])"
   ]
  },
  {
   "cell_type": "markdown",
   "id": "0f031332",
   "metadata": {
    "editable": true,
    "jupyter": {
     "source_hidden": true
    },
    "slideshow": {
     "slide_type": ""
    },
    "tags": []
   },
   "source": [
    "Once you are sure to be able to make connection with your DHIS2 instance, you can proceed to fetching geojson info. But first you need to decide which orgunit(s) or level you want to fetch. Below is an example for fetching geojson info for all orgunits from `level=2"
   ]
  },
  {
   "cell_type": "code",
   "execution_count": null,
   "id": "72942972",
   "metadata": {},
   "outputs": [
    {
     "data": {
      "text/html": [
       "<div>\n",
       "<style scoped>\n",
       "    .dataframe tbody tr th:only-of-type {\n",
       "        vertical-align: middle;\n",
       "    }\n",
       "\n",
       "    .dataframe tbody tr th {\n",
       "        vertical-align: top;\n",
       "    }\n",
       "\n",
       "    .dataframe thead th {\n",
       "        text-align: right;\n",
       "    }\n",
       "</style>\n",
       "<table border=\"1\" class=\"dataframe\">\n",
       "  <thead>\n",
       "    <tr style=\"text-align: right;\">\n",
       "      <th></th>\n",
       "      <th>org_unit_id</th>\n",
       "      <th>name</th>\n",
       "      <th>level</th>\n",
       "      <th>geometry</th>\n",
       "    </tr>\n",
       "  </thead>\n",
       "  <tbody>\n",
       "    <tr>\n",
       "      <th>0</th>\n",
       "      <td>O6uvpzGd5pu</td>\n",
       "      <td>Bo</td>\n",
       "      <td>2</td>\n",
       "      <td>POLYGON ((-11.5914 8.4875, -11.5906 8.4769, -1...</td>\n",
       "    </tr>\n",
       "    <tr>\n",
       "      <th>1</th>\n",
       "      <td>fdc6uOvgoji</td>\n",
       "      <td>Bombali</td>\n",
       "      <td>2</td>\n",
       "      <td>POLYGON ((-11.8091 9.2032, -11.8102 9.1944, -1...</td>\n",
       "    </tr>\n",
       "    <tr>\n",
       "      <th>2</th>\n",
       "      <td>lc3eMKXaEfw</td>\n",
       "      <td>Bonthe</td>\n",
       "      <td>2</td>\n",
       "      <td>MULTIPOLYGON (((-12.5568 7.3832, -12.5574 7.38...</td>\n",
       "    </tr>\n",
       "    <tr>\n",
       "      <th>3</th>\n",
       "      <td>jUb8gELQApl</td>\n",
       "      <td>Kailahun</td>\n",
       "      <td>2</td>\n",
       "      <td>POLYGON ((-10.7972 7.5866, -10.8002 7.5878, -1...</td>\n",
       "    </tr>\n",
       "    <tr>\n",
       "      <th>4</th>\n",
       "      <td>PMa2VCrupOd</td>\n",
       "      <td>Kambia</td>\n",
       "      <td>2</td>\n",
       "      <td>MULTIPOLYGON (((-13.1349 8.8471, -13.1343 8.84...</td>\n",
       "    </tr>\n",
       "    <tr>\n",
       "      <th>5</th>\n",
       "      <td>kJq2mPyFEHo</td>\n",
       "      <td>Kenema</td>\n",
       "      <td>2</td>\n",
       "      <td>POLYGON ((-11.3596 8.5317, -11.3513 8.5234, -1...</td>\n",
       "    </tr>\n",
       "    <tr>\n",
       "      <th>6</th>\n",
       "      <td>qhqAxPSTUXp</td>\n",
       "      <td>Koinadugu</td>\n",
       "      <td>2</td>\n",
       "      <td>POLYGON ((-10.585 9.0434, -10.5877 9.0432, -10...</td>\n",
       "    </tr>\n",
       "    <tr>\n",
       "      <th>7</th>\n",
       "      <td>Vth0fbpFcsO</td>\n",
       "      <td>Kono</td>\n",
       "      <td>2</td>\n",
       "      <td>POLYGON ((-10.585 9.0434, -10.5848 9.0432, -10...</td>\n",
       "    </tr>\n",
       "    <tr>\n",
       "      <th>8</th>\n",
       "      <td>jmIPBj66vD6</td>\n",
       "      <td>Moyamba</td>\n",
       "      <td>2</td>\n",
       "      <td>MULTIPOLYGON (((-12.6351 7.6613, -12.6346 7.66...</td>\n",
       "    </tr>\n",
       "    <tr>\n",
       "      <th>9</th>\n",
       "      <td>TEQlaapDQoK</td>\n",
       "      <td>Port Loko</td>\n",
       "      <td>2</td>\n",
       "      <td>MULTIPOLYGON (((-13.119 8.4718, -13.1174 8.470...</td>\n",
       "    </tr>\n",
       "    <tr>\n",
       "      <th>10</th>\n",
       "      <td>bL4ooGhyHRQ</td>\n",
       "      <td>Pujehun</td>\n",
       "      <td>2</td>\n",
       "      <td>MULTIPOLYGON (((-11.5346 6.944, -11.5338 6.943...</td>\n",
       "    </tr>\n",
       "    <tr>\n",
       "      <th>11</th>\n",
       "      <td>eIQbndfxQMb</td>\n",
       "      <td>Tonkolili</td>\n",
       "      <td>2</td>\n",
       "      <td>POLYGON ((-11.3546 8.6455, -11.357 8.6345, -11...</td>\n",
       "    </tr>\n",
       "    <tr>\n",
       "      <th>12</th>\n",
       "      <td>at6UHUQatSo</td>\n",
       "      <td>Western Area</td>\n",
       "      <td>2</td>\n",
       "      <td>MULTIPOLYGON (((-13.2435 8.1007, -13.2429 8.10...</td>\n",
       "    </tr>\n",
       "  </tbody>\n",
       "</table>\n",
       "</div>"
      ],
      "text/plain": [
       "    org_unit_id          name  level  \\\n",
       "0   O6uvpzGd5pu            Bo      2   \n",
       "1   fdc6uOvgoji       Bombali      2   \n",
       "2   lc3eMKXaEfw        Bonthe      2   \n",
       "3   jUb8gELQApl      Kailahun      2   \n",
       "4   PMa2VCrupOd        Kambia      2   \n",
       "5   kJq2mPyFEHo        Kenema      2   \n",
       "6   qhqAxPSTUXp     Koinadugu      2   \n",
       "7   Vth0fbpFcsO          Kono      2   \n",
       "8   jmIPBj66vD6       Moyamba      2   \n",
       "9   TEQlaapDQoK     Port Loko      2   \n",
       "10  bL4ooGhyHRQ       Pujehun      2   \n",
       "11  eIQbndfxQMb     Tonkolili      2   \n",
       "12  at6UHUQatSo  Western Area      2   \n",
       "\n",
       "                                             geometry  \n",
       "0   POLYGON ((-11.5914 8.4875, -11.5906 8.4769, -1...  \n",
       "1   POLYGON ((-11.8091 9.2032, -11.8102 9.1944, -1...  \n",
       "2   MULTIPOLYGON (((-12.5568 7.3832, -12.5574 7.38...  \n",
       "3   POLYGON ((-10.7972 7.5866, -10.8002 7.5878, -1...  \n",
       "4   MULTIPOLYGON (((-13.1349 8.8471, -13.1343 8.84...  \n",
       "5   POLYGON ((-11.3596 8.5317, -11.3513 8.5234, -1...  \n",
       "6   POLYGON ((-10.585 9.0434, -10.5877 9.0432, -10...  \n",
       "7   POLYGON ((-10.585 9.0434, -10.5848 9.0432, -10...  \n",
       "8   MULTIPOLYGON (((-12.6351 7.6613, -12.6346 7.66...  \n",
       "9   MULTIPOLYGON (((-13.119 8.4718, -13.1174 8.470...  \n",
       "10  MULTIPOLYGON (((-11.5346 6.944, -11.5338 6.943...  \n",
       "11  POLYGON ((-11.3546 8.6455, -11.357 8.6345, -11...  \n",
       "12  MULTIPOLYGON (((-13.2435 8.1007, -13.2429 8.10...  "
      ]
     },
     "execution_count": 10,
     "metadata": {},
     "output_type": "execute_result"
    }
   ],
   "source": [
    "# Get org units GeoJSON from DHIS2\n",
    "level = 2\n",
    "org_units_geojson = client.get_org_units_geojson(level=level)\n",
    "\n",
    "# Convert GeoJSON to geopandas\n",
    "import dhis2eo.org_units\n",
    "gdf = dhis2eo.org_units.from_dhis2_geojson(org_units_geojson)\n",
    "\n",
    "# Show a compact summary\n",
    "gdf[[\"name\", \"level\", \"geometry\"]].head()"
   ]
  },
  {
   "cell_type": "code",
   "execution_count": 11,
   "id": "5c3e3eee",
   "metadata": {},
   "outputs": [
    {
     "data": {
      "text/plain": [
       "<Axes: >"
      ]
     },
     "execution_count": 11,
     "metadata": {},
     "output_type": "execute_result"
    },
    {
     "data": {
      "image/png": "[encoded data removed]",
      "text/plain": [
       "<Figure size 640x480 with 1 Axes>"
      ]
     },
     "metadata": {},
     "output_type": "display_data"
    }
   ],
   "source": [
    "# Do a quick plot\n",
    "gdf.plot()"
   ]
  },
  {
   "cell_type": "code",
   "execution_count": null,
   "id": "fbed3d92",
   "metadata": {},
   "outputs": [],
   "source": []
  }
 ],
 "metadata": {
  "kernelspec": {
   "display_name": "climate-tools-new",
   "language": "python",
   "name": "python3"
  },
  "language_info": {
   "codemirror_mode": {
    "name": "ipython",
    "version": 3
   },
   "file_extension": ".py",
   "mimetype": "text/x-python",
   "name": "python",
   "nbconvert_exporter": "python",
   "pygments_lexer": "ipython3",
   "version": "3.13.7"
  },
  "short_title": "Getting from Web API",
  "title": "Getting org units from DHIS2 Web API"
 },
 "nbformat": 4,
 "nbformat_minor": 5
}
