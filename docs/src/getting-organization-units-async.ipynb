{
 "cells": [
  {
   "cell_type": "markdown",
   "id": "b2c51140-ba72-4d9d-8dd9-daecf94217a8",
   "metadata": {},
   "source": [
    "---\n",
    "title: Getting organization units from DHIS2 Web API (asynchronous)\n",
    "short_title: Getting org units from DHIS2 \n",
    "---"
   ]
  },
  {
   "cell_type": "markdown",
   "id": "b497773a-05bb-489b-9a9a-abcf267b8c7d",
   "metadata": {},
   "source": [
    "Downloading organization units from the DHIS2 Web API"
   ]
  },
  {
   "cell_type": "code",
   "execution_count": 3,
   "id": "3fcdee97-f5d9-49ed-8cf5-bbd5caec1b27",
   "metadata": {},
   "outputs": [],
   "source": [
    "import asyncio\n",
    "import geopandas\n",
    "import json\n",
    "import earthkit.data\n",
    "import io\n",
    "from dhis2_client import DHIS2AsyncClient, Settings"
   ]
  },
  {
   "cell_type": "code",
   "execution_count": 4,
   "id": "00af59d3-4e52-401d-b228-d1b117125956",
   "metadata": {},
   "outputs": [],
   "source": [
    "settings = Settings(base_url='http://localhost:8080', username='admin', password='district')"
   ]
  },
  {
   "cell_type": "code",
   "execution_count": 5,
   "id": "6882c698-e351-4b10-ab84-570523638c4a",
   "metadata": {},
   "outputs": [],
   "source": [
    "async def get_org_units():\n",
    "  async with DHIS2AsyncClient.from_settings(settings) as client:\n",
    "    info = await client.get_system_info()\n",
    "    print(\"DHIS2:\", info.version, info.contextPath)\n",
    "    org_units_dict = await client.get(\"/api/organisationUnits.geojson\", params={\"level\": 2}) \n",
    "    org_units_json = json.dumps(org_units_dict)\n",
    "\n",
    "    print('org_units_json', org_units_dict)\n",
    "      \n",
    "    # org_units_stream = io.StringIO(org_units_json)\n",
    "    # data = earthkit.data.from_source(\"stream\", org_units_stream, read_all=True) \n",
    "    # print(\"data\", data)\n",
    "      \n",
    "    gdf = geopandas.read_file(org_units_json, use_arrow=True)\n",
    "    gdf.plot()\n",
    "\n",
    "    # print(f\"Current CRS: {gdf.crs}\")\n",
    "\n",
    "    # https://github.com/ecmwf/earthkit-data/issues/800\n",
    "    # org_units_stream = io.StringIO(org_units_json)  \n",
    "    # features = earthkit.data.from_source(\"stream\", org_units_stream)\n",
    "    # print('DONE', features) \n"
   ]
  },
  {
   "cell_type": "markdown",
   "id": "dd3bb3cb-8855-4988-a7a0-b92ea3347627",
   "metadata": {},
   "source": [
    "Get the event loop and run the main asynchronous function. [About running asynchronous code in Jupyter Notebook](https://medium.com/@dpzhcmy/running-asynchronous-code-in-jupyter-notebooks-managing-event-loops-b9696a596ce4)."
   ]
  },
  {
   "cell_type": "code",
   "execution_count": 14,
   "id": "ec4fe945-7eb3-4c83-942f-3bddda7edecb",
   "metadata": {},
   "outputs": [],
   "source": [
    "loop = asyncio.get_event_loop()\n",
    "# loop.create_task(get_org_units())"
   ]
  },
  {
   "cell_type": "code",
   "execution_count": 15,
   "id": "f0cfe026-d8fd-4119-b542-76e9316d6bf8",
   "metadata": {},
   "outputs": [],
   "source": [
    "data = {\n",
    "    \"dataValues\": [\n",
    "        {\n",
    "            \"orgUnit\": \"O6uvpzGd5pu\",\n",
    "            \"period\": \"20251001\",\n",
    "            \"value\": \"23.68\",\n",
    "            \"dataElement\": \"VJwwPOOvge6\"\n",
    "        },\n",
    "        {\n",
    "            \"orgUnit\": \"fdc6uOvgoji\",\n",
    "            \"period\": \"20251001\",\n",
    "            \"value\": \"23.96\",\n",
    "            \"dataElement\": \"VJwwPOOvge6\"\n",
    "        },\n",
    "        {\n",
    "            \"orgUnit\": \"lc3eMKXaEfw\",\n",
    "            \"period\": \"20251001\",\n",
    "            \"value\": \"24.52\",\n",
    "            \"dataElement\": \"VJwwPOOvge6\"\n",
    "        },\n",
    "        {\n",
    "            \"orgUnit\": \"jUb8gELQApl\",\n",
    "            \"period\": \"20251001\",\n",
    "            \"value\": \"23.06\",\n",
    "            \"dataElement\": \"VJwwPOOvge6\"\n",
    "        },\n",
    "        {\n",
    "            \"orgUnit\": \"PMa2VCrupOd\",\n",
    "            \"period\": \"20251001\",\n",
    "            \"value\": \"24.45\",\n",
    "            \"dataElement\": \"VJwwPOOvge6\"\n",
    "        },\n",
    "        {\n",
    "            \"orgUnit\": \"kJq2mPyFEHo\",\n",
    "            \"period\": \"20251001\",\n",
    "            \"value\": \"23.27\",\n",
    "            \"dataElement\": \"VJwwPOOvge6\"\n",
    "        }\n",
    "    ]\n",
    "}"
   ]
  },
  {
   "cell_type": "code",
   "execution_count": 18,
   "id": "2a15b6fe-0f6a-4f61-be95-c44e91e9f469",
   "metadata": {},
   "outputs": [],
   "source": [
    "async def post_data():\n",
    "  async with DHIS2AsyncClient.from_settings(settings) as client:\n",
    "    print('BEFORE');\n",
    "    response = await client.post_data_value_set(data, import_strategy=\"CREATE\")\n",
    "    print('RESPONSE:', response)  "
   ]
  },
  {
   "cell_type": "code",
   "execution_count": 19,
   "id": "bb81d678-1ba0-4270-a8be-09f5a60002d2",
   "metadata": {},
   "outputs": [
    {
     "data": {
      "text/plain": [
       "<Task pending name='Task-7' coro=<post_data() running at /var/folders/5w/c_fm8msx2gb49y7ygv1wxklr0000gn/T/ipykernel_61633/3347362309.py:1>>"
      ]
     },
     "execution_count": 19,
     "metadata": {},
     "output_type": "execute_result"
    },
    {
     "name": "stdout",
     "output_type": "stream",
     "text": [
      "BEFORE\n"
     ]
    }
   ],
   "source": [
    "loop.create_task(post_data())"
   ]
  },
  {
   "cell_type": "code",
   "execution_count": null,
   "id": "23a8ce7d-40ad-4d2d-9c33-0f228e8362e8",
   "metadata": {},
   "outputs": [],
   "source": []
  }
 ],
 "metadata": {
  "kernelspec": {
   "display_name": "Python 3 (ipykernel)",
   "language": "python",
   "name": "python3"
  },
  "language_info": {
   "codemirror_mode": {
    "name": "ipython",
    "version": 3
   },
   "file_extension": ".py",
   "mimetype": "text/x-python",
   "name": "python",
   "nbconvert_exporter": "python",
   "pygments_lexer": "ipython3",
   "version": "3.10.14"
  }
 },
 "nbformat": 4,
 "nbformat_minor": 5
}
