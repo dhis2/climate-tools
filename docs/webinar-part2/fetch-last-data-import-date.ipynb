{
 "cells": [
  {
   "cell_type": "markdown",
   "id": "3fdeb5fd",
   "metadata": {},
   "source": [
    "## Identifying last data import period"
   ]
  },
  {
   "cell_type": "markdown",
   "id": "600625a7",
   "metadata": {},
   "source": [
    "In DHIS2, a **data value** is uniquely identified by the composite key (**orgUnit, dataElement, period, categoryOptionCombo, attributeOptionCombo**).\n",
    "The **period** is what tells you which time slice the data belongs to.\n",
    "The **created** and **lastupdated** timestamps only tell you *when the record was inserted or changed* — they do not indicate the reporting period.\n",
    "\n",
    "Example: If you import January 2024 monthly data today, the data value’s period is `202401` (Jan 2024). The `created` and `lastupdated` timestamps will show today’s date, but the reporting period remains January 2024 as shown below.\n",
    "\n",
    "```python\n",
    "{\n",
    "      \"dataElement\": \"<data_element_uid>\",\n",
    "      \"period\": \"202401\",\n",
    "      \"orgUnit\": \"<org_unit_uid>\",\n",
    "      \"value\": \"1\",\n",
    "      \"storedBy\": \"admin\",\n",
    "      \"created\": \"2025-10-08\",\n",
    "      \"lastUpdated\": \"2025-10-08\"\n",
    "}\n",
    "```"
   ]
  },
  {
   "cell_type": "markdown",
   "id": "53dffa2f",
   "metadata": {},
   "source": [
    "Therefore, to determine the **last data import period**, you must look at the **period** dimension, not timestamps. `dhis2-python-client` provides a convenience method that finds the most recent **period** (by period chronology) for which data exists, scoped by a data element and an organisational level. See below an example"
   ]
  },
  {
   "cell_type": "code",
   "execution_count": 3,
   "id": "ca52bc8a",
   "metadata": {},
   "outputs": [
    {
     "name": "stdout",
     "output_type": "stream",
     "text": [
      "{\n",
      "    \"meta\": {\n",
      "        \"dataElement\": \"Fyul5papro0\",\n",
      "        \"level\": 2,\n",
      "        \"periodType\": \"MONTHLY\",\n",
      "        \"calendar\": \"iso8601\",\n",
      "        \"years_checked\": 2\n",
      "    },\n",
      "    \"existing\": {\n",
      "        \"id\": \"202405\",\n",
      "        \"startDate\": \"2024-05-01\",\n",
      "        \"endDate\": \"2024-05-31\"\n",
      "    },\n",
      "    \"next\": {\n",
      "        \"id\": \"202406\",\n",
      "        \"startDate\": \"2024-06-01\",\n",
      "        \"endDate\": \"2024-06-30\"\n",
      "    }\n",
      "}\n"
     ]
    }
   ],
   "source": [
    "import json\n",
    "from dhis2_client import DHIS2Client\n",
    "from dhis2_client.settings import ClientSettings\n",
    "\n",
    "# Client configuration\n",
    "cfg = ClientSettings(\n",
    "  base_url=\"http://localhost:8080\",\n",
    "  username=\"admin\",\n",
    "  password=\"district\")\n",
    "\n",
    "client = DHIS2Client(settings=cfg)\n",
    "\n",
    "data_element_uid = 'Fyul5papro0'\n",
    "level = 2\n",
    "import_period_info = client.analytics_latest_period_for_level(data_element_uid, level)\n",
    "\n",
    "print(json.dumps(import_period_info, indent=4))"
   ]
  },
  {
   "cell_type": "markdown",
   "id": "ee418879",
   "metadata": {},
   "source": [
    "The response tells us, this data element is collected **Monthly**. The latest period with data is **May 2025 (202505)**. The next expected period is **June 2025 (202506)**."
   ]
  }
 ],
 "metadata": {
  "kernelspec": {
   "display_name": "Python 3 (ipykernel)",
   "language": "python",
   "name": "python3"
  },
  "language_info": {
   "codemirror_mode": {
    "name": "ipython",
    "version": 3
   },
   "file_extension": ".py",
   "mimetype": "text/x-python",
   "name": "python",
   "nbconvert_exporter": "python",
   "pygments_lexer": "ipython3",
   "version": "3.10.14"
  }
 },
 "nbformat": 4,
 "nbformat_minor": 5
}
