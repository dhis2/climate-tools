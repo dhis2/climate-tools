{
 "cells": [
  {
   "cell_type": "markdown",
   "metadata": {},
   "source": [
    "## Downloading NetCDF data for a given month"
   ]
  },
  {
   "cell_type": "markdown",
   "metadata": {},
   "source": [
    "For downloading data from the Climate Data Store (CDS), we will use the `earthkit.data` package which includes a way to programmatically retreive the data from the CDS API. For more information about CDS data access, see our guide for [manually downloading CDS data](../getting-data/climate-data-store.ipynb). "
   ]
  },
  {
   "cell_type": "code",
   "execution_count": 1,
   "metadata": {},
   "outputs": [],
   "source": [
    "import earthkit.data"
   ]
  },
  {
   "cell_type": "markdown",
   "metadata": {},
   "source": [
    "### Authenticate with your ECMWF user\n",
    "\n",
    "Before we can download the dataset programmatically, we need to authenticate using our user credentials:\n",
    "\n",
    "- Go to the [CDSAPI Setup page](https://cds.climate.copernicus.eu/how-to-api) and make sure to login.\n",
    "- Once logged in, scroll down to the section \"Setup the CDS API personal access token\". \n",
    "  - This should show your login credentials, and look something like this:\n",
    "\n",
    "        url: https://cds.climate.copernicus.eu/api\n",
    "        key: xxxxxxxxxxxxxxxxxxxxxxxxxxxxxxxxxx\n",
    "\n",
    "- Copy those two lines to a file `.cdsapirc` in your user's $HOME directory."
   ]
  },
  {
   "cell_type": "markdown",
   "metadata": {},
   "source": [
    "### Accept the dataset license\n",
    "\n",
    "ECMWF requires that you manually accept the user license for each dataset that you download. \n",
    "\n",
    "- Start by visiting the Download page of the dataset we are interested in: [\"ERA5 post-processed daily statistics on single levels from 1940 to present\"](https://cds.climate.copernicus.eu/datasets/derived-era5-single-levels-daily-statistics?tab=download). \n",
    "- Scroll down until you get to the \"Terms of Use\" section.\n",
    "- Click the button to accept and login with your user if you haven't already. "
   ]
  },
  {
   "cell_type": "markdown",
   "metadata": {},
   "source": [
    "### Try an example request query\n",
    "\n",
    "Earthkit provides a convenience method for retrieving data from CDS, `earthkit.data.from_source(\"cds\", ...)`. To obtain the correct parameters to use for the data query, you can follow these steps:\n",
    "\n",
    "- Manually go to the dataset [Download page](https://cds.climate.copernicus.eu/datasets/derived-era5-single-levels-daily-statistics?tab=download)\n",
    "  - In our case, select 2m Temperature, select all days of a single month, and any subregion. \n",
    "- At the bottom of the page, click \"Show API Request Code\" in the \"API Request\" section.\n",
    "- This should show something like this:\n",
    "\n",
    "        import cdsapi\n",
    "\n",
    "        dataset = \"derived-era5-single-levels-daily-statistics\"\n",
    "        request = {\n",
    "            \"product_type\": \"reanalysis\",\n",
    "            \"variable\": [\"2m_temperature\"],\n",
    "            \"year\": \"2024\",\n",
    "            \"month\": [\"12\"],\n",
    "            \"day\": [\n",
    "                \"01\", \"02\", \"03\",\n",
    "                \"04\", \"05\", \"06\",\n",
    "                \"07\", \"08\", \"09\",\n",
    "                \"10\", \"11\", \"12\",\n",
    "                \"13\", \"14\", \"15\",\n",
    "                \"16\", \"17\", \"18\",\n",
    "                \"19\", \"20\", \"21\",\n",
    "                \"22\", \"23\", \"24\",\n",
    "                \"25\", \"26\", \"27\",\n",
    "                \"28\", \"29\", \"30\",\n",
    "                \"31\"\n",
    "            ],\n",
    "            \"daily_statistic\": \"daily_mean\",\n",
    "            \"time_zone\": \"utc+00:00\",\n",
    "            \"frequency\": \"1_hourly\",\n",
    "            \"area\": [-9.223115, 26.677001, -17.666611, 43.387206]\n",
    "        }\n",
    "\n",
    "        client = cdsapi.Client()\n",
    "        client.retrieve(dataset, request).download()"
   ]
  },
  {
   "cell_type": "markdown",
   "metadata": {},
   "source": [
    "Since `earthkit` uses `cdsapi` in the background, we can copy these parameter values directly to fill in the parameters required by `earthkit`. We also add two additional parameters to download as unzipped NetCDF format:"
   ]
  },
  {
   "cell_type": "code",
   "execution_count": 7,
   "metadata": {},
   "outputs": [
    {
     "name": "stderr",
     "output_type": "stream",
     "text": [
      "2025-10-07 14:25:45,229 INFO Request ID is 32899543-a274-46b3-8581-f79fcb545a30\n",
      "2025-10-07 14:25:45,299 INFO status has been updated to accepted\n",
      "2025-10-07 14:25:53,802 INFO status has been updated to running\n",
      "2025-10-07 14:27:01,072 INFO status has been updated to successful\n"
     ]
    },
    {
     "data": {
      "application/vnd.jupyter.widget-view+json": {
       "model_id": "a60512e5648b4a0393d926ad3fa2a380",
       "version_major": 2,
       "version_minor": 0
      },
      "text/plain": [
       "c28285aa1968f925f21176d0a10b8309.nc:   0%|          | 0.00/179k [00:00<?, ?B/s]"
      ]
     },
     "metadata": {},
     "output_type": "display_data"
    }
   ],
   "source": [
    "data = earthkit.data.from_source(\"cds\",\n",
    "    \"derived-era5-single-levels-daily-statistics\",\n",
    "    {\n",
    "        \"product_type\": \"reanalysis\",\n",
    "        \"variable\": [\"2m_temperature\"],\n",
    "        \"year\": \"2024\",\n",
    "        \"month\": [\"12\"],\n",
    "        \"day\": [\n",
    "            \"01\", \"02\", \"03\",\n",
    "            \"04\", \"05\", \"06\",\n",
    "            \"07\", \"08\", \"09\",\n",
    "            \"10\", \"11\", \"12\",\n",
    "            \"13\", \"14\", \"15\",\n",
    "            \"16\", \"17\", \"18\",\n",
    "            \"19\", \"20\", \"21\",\n",
    "            \"22\", \"23\", \"24\",\n",
    "            \"25\", \"26\", \"27\",\n",
    "            \"28\", \"29\", \"30\",\n",
    "            \"31\"\n",
    "        ],\n",
    "        \"daily_statistic\": \"daily_mean\",\n",
    "        \"time_zone\": \"utc+00:00\",\n",
    "        \"frequency\": \"1_hourly\",\n",
    "        \"area\": [-9.223115, 26.677001, -17.666611, 43.387206],\n",
    "        \"data_format\": \"netcdf\",\n",
    "        \"download_format\": \"unarchived\",\n",
    "    }\n",
    ")"
   ]
  },
  {
   "cell_type": "markdown",
   "metadata": {},
   "source": [
    "After some time we see that the download was successful. "
   ]
  },
  {
   "cell_type": "markdown",
   "metadata": {},
   "source": [
    "### Creating a generalized function for downloading data\n",
    "\n",
    "In order to make this more useful, we generalize this in a function that modifies some of the download parameters based on input arguments. "
   ]
  },
  {
   "cell_type": "markdown",
   "metadata": {},
   "source": [
    "#### Year and month inputs\n",
    "\n",
    "In our function we want the user to be able to input a `year` and `month`, and then update the necessary query parameters. To automatically select all individual days for a particular month, we can use the builtin Python function `calendar.monthrange(year, month)` to get the first and last day of each month. We also have to left-pad all numbers with zero. This function might look something like this:"
   ]
  },
  {
   "cell_type": "code",
   "execution_count": null,
   "metadata": {},
   "outputs": [],
   "source": [
    "def download_temperature_for_month(year, month):\n",
    "    import calendar\n",
    "    # construct the query parameters\n",
    "    params = {\n",
    "        \"product_type\": \"reanalysis\",\n",
    "        \"variable\": [\"2m_temperature\"],\n",
    "        \"year\": str(year),\n",
    "        \"month\": [str(month).zfill(2)],\n",
    "        \"daily_statistic\": \"daily_mean\",\n",
    "        \"time_zone\": \"utc+00:00\",\n",
    "        \"frequency\": \"1_hourly\",\n",
    "        \"area\": [-9.223115, 26.677001, -17.666611, 43.387206],\n",
    "        \"data_format\": \"netcdf\",\n",
    "        \"download_format\": \"unarchived\",\n",
    "    }\n",
    "    first_day,last_day = calendar.monthrange(year, month)\n",
    "    params['day'] = [str(day).zfill(2) for day in range(first_day, last_day)]\n",
    "    print(params)\n",
    "    # download the data\n",
    "    data = earthkit.data.from_source(\"cds\",\n",
    "        \"derived-era5-single-levels-daily-statistics\",\n",
    "        params,\n",
    "    )\n",
    "    # return\n",
    "    return data"
   ]
  },
  {
   "cell_type": "markdown",
   "metadata": {},
   "source": [
    "#### Determining the area coordinates from organisation units\n",
    "\n",
    "Notice that we didn't yet do anything with the `area` parameter. To make our function more generic we also want to set this `area` parameter based on the bounding box of our organisation unit geometries. We therefore add another function that calculates the bounding box from a `geopandas.GeoDataFrame` and allow a bounding box input to our download function. The updated code would look like this:"
   ]
  },
  {
   "cell_type": "code",
   "execution_count": 22,
   "metadata": {},
   "outputs": [],
   "source": [
    "import geopandas as gpd\n",
    "\n",
    "def get_bbox(org_units: gpd.GeoDataFrame):\n",
    "    '''Returns bounding box of a geopandas GeoDataFrame in standard format: xmin,ymin,xmax,ymax.'''\n",
    "    bbox = org_units.total_bounds\n",
    "    return bbox\n",
    "\n",
    "def download_temperature_for_month_and_bbox(year, month, bbox):\n",
    "    import calendar\n",
    "    # extract the coordinates from input bounding box\n",
    "    xmin,ymin,xmax,ymax = bbox\n",
    "    # construct the query parameters\n",
    "    params = {\n",
    "        \"product_type\": \"reanalysis\",\n",
    "        \"variable\": [\"2m_temperature\"],\n",
    "        \"year\": str(year),\n",
    "        \"month\": [str(month).zfill(2)],\n",
    "        \"daily_statistic\": \"daily_mean\",\n",
    "        \"time_zone\": \"utc+00:00\",\n",
    "        \"frequency\": \"1_hourly\",\n",
    "        \"area\": [ymax, xmin, ymin, xmax], # notice the different ordering of coordinates\n",
    "        \"data_format\": \"netcdf\",\n",
    "        \"download_format\": \"unarchived\",\n",
    "    }\n",
    "    first_day,last_day = calendar.monthrange(year, month)\n",
    "    params['day'] = [str(day).zfill(2) for day in range(first_day, last_day)]\n",
    "    # download the data\n",
    "    data = earthkit.data.from_source(\"cds\",\n",
    "        \"derived-era5-single-levels-daily-statistics\",\n",
    "        params,\n",
    "    )\n",
    "    # return\n",
    "    return data"
   ]
  },
  {
   "cell_type": "markdown",
   "metadata": {},
   "source": [
    "#### Test case\n",
    "\n",
    "Finally, let's try it out based on organisation units from Sierra Leone and February of 2012: "
   ]
  },
  {
   "cell_type": "code",
   "execution_count": null,
   "metadata": {},
   "outputs": [
    {
     "name": "stdout",
     "output_type": "stream",
     "text": [
      "Bbox: [-13.3035   6.9176 -10.2658  10.0004]\n"
     ]
    }
   ],
   "source": [
    "org_units = earthkit.data.from_source(\"file\", '../data/sierra-leone-districts.geojson')\n",
    "bbox = get_bbox(org_units.to_geopandas())\n",
    "print('Bbox:', bbox)\n",
    "data = download_temperature_for_month_and_bbox(2012, 2, bbox)"
   ]
  },
  {
   "cell_type": "markdown",
   "metadata": {},
   "source": [
    "When visualized, it looks like we correctly retrieved the relevant data:"
   ]
  },
  {
   "cell_type": "code",
   "execution_count": 33,
   "metadata": {},
   "outputs": [
    {
     "data": {
      "text/plain": [
       "<earthkit.plots.components.figures.Figure at 0x23a65fc5e50>"
      ]
     },
     "execution_count": 33,
     "metadata": {},
     "output_type": "execute_result"
    },
    {
     "data": {
      "image/png": "[encoded data removed]",
      "text/plain": [
       "<Figure size 800x700 with 2 Axes>"
      ]
     },
     "metadata": {},
     "output_type": "display_data"
    }
   ],
   "source": [
    "import earthkit.plots\n",
    "array = data.to_xarray()\n",
    "subset = array.sel(valid_time='2012-02-01', method='nearest')\n",
    "earthkit.plots.quickplot(subset)"
   ]
  },
  {
   "cell_type": "markdown",
   "metadata": {},
   "source": [
    "## Aggregating the data to organisation units\n",
    "\n",
    "The next step is creating a generic function that aggregates the data downloaded from the previous step to a set of input organisation units:"
   ]
  },
  {
   "cell_type": "code",
   "execution_count": 44,
   "metadata": {},
   "outputs": [],
   "source": [
    "def aggregate(data, org_units):\n",
    "    from earthkit.transforms import aggregate\n",
    "    # aggregate to org unit for each time period\n",
    "    agg_data = aggregate.spatial.reduce(data, org_units, mask_dim=\"id\")\n",
    "    # convert to dataframe\n",
    "    agg_df = agg_data.to_dataframe().reset_index()\n",
    "    # return\n",
    "    return agg_df"
   ]
  },
  {
   "cell_type": "markdown",
   "metadata": {},
   "source": [
    "Let's try it for our previously downloaded test data:"
   ]
  },
  {
   "cell_type": "code",
   "execution_count": 45,
   "metadata": {},
   "outputs": [
    {
     "data": {
      "text/html": [
       "<div>\n",
       "<style scoped>\n",
       "    .dataframe tbody tr th:only-of-type {\n",
       "        vertical-align: middle;\n",
       "    }\n",
       "\n",
       "    .dataframe tbody tr th {\n",
       "        vertical-align: top;\n",
       "    }\n",
       "\n",
       "    .dataframe thead th {\n",
       "        text-align: right;\n",
       "    }\n",
       "</style>\n",
       "<table border=\"1\" class=\"dataframe\">\n",
       "  <thead>\n",
       "    <tr style=\"text-align: right;\">\n",
       "      <th></th>\n",
       "      <th>valid_time</th>\n",
       "      <th>id</th>\n",
       "      <th>number</th>\n",
       "      <th>t2m</th>\n",
       "    </tr>\n",
       "  </thead>\n",
       "  <tbody>\n",
       "    <tr>\n",
       "      <th>0</th>\n",
       "      <td>2012-02-02</td>\n",
       "      <td>O6uvpzGd5pu</td>\n",
       "      <td>0</td>\n",
       "      <td>27.335388</td>\n",
       "    </tr>\n",
       "    <tr>\n",
       "      <th>1</th>\n",
       "      <td>2012-02-02</td>\n",
       "      <td>fdc6uOvgoji</td>\n",
       "      <td>0</td>\n",
       "      <td>27.853302</td>\n",
       "    </tr>\n",
       "    <tr>\n",
       "      <th>2</th>\n",
       "      <td>2012-02-02</td>\n",
       "      <td>lc3eMKXaEfw</td>\n",
       "      <td>0</td>\n",
       "      <td>26.812439</td>\n",
       "    </tr>\n",
       "    <tr>\n",
       "      <th>3</th>\n",
       "      <td>2012-02-02</td>\n",
       "      <td>jUb8gELQApl</td>\n",
       "      <td>0</td>\n",
       "      <td>27.563202</td>\n",
       "    </tr>\n",
       "    <tr>\n",
       "      <th>4</th>\n",
       "      <td>2012-02-02</td>\n",
       "      <td>PMa2VCrupOd</td>\n",
       "      <td>0</td>\n",
       "      <td>27.259949</td>\n",
       "    </tr>\n",
       "    <tr>\n",
       "      <th>...</th>\n",
       "      <td>...</td>\n",
       "      <td>...</td>\n",
       "      <td>...</td>\n",
       "      <td>...</td>\n",
       "    </tr>\n",
       "    <tr>\n",
       "      <th>346</th>\n",
       "      <td>2012-02-28</td>\n",
       "      <td>jmIPBj66vD6</td>\n",
       "      <td>0</td>\n",
       "      <td>26.785797</td>\n",
       "    </tr>\n",
       "    <tr>\n",
       "      <th>347</th>\n",
       "      <td>2012-02-28</td>\n",
       "      <td>TEQlaapDQoK</td>\n",
       "      <td>0</td>\n",
       "      <td>27.028656</td>\n",
       "    </tr>\n",
       "    <tr>\n",
       "      <th>348</th>\n",
       "      <td>2012-02-28</td>\n",
       "      <td>bL4ooGhyHRQ</td>\n",
       "      <td>0</td>\n",
       "      <td>26.023712</td>\n",
       "    </tr>\n",
       "    <tr>\n",
       "      <th>349</th>\n",
       "      <td>2012-02-28</td>\n",
       "      <td>eIQbndfxQMb</td>\n",
       "      <td>0</td>\n",
       "      <td>27.649323</td>\n",
       "    </tr>\n",
       "    <tr>\n",
       "      <th>350</th>\n",
       "      <td>2012-02-28</td>\n",
       "      <td>at6UHUQatSo</td>\n",
       "      <td>0</td>\n",
       "      <td>NaN</td>\n",
       "    </tr>\n",
       "  </tbody>\n",
       "</table>\n",
       "<p>351 rows × 4 columns</p>\n",
       "</div>"
      ],
      "text/plain": [
       "    valid_time           id  number        t2m\n",
       "0   2012-02-02  O6uvpzGd5pu       0  27.335388\n",
       "1   2012-02-02  fdc6uOvgoji       0  27.853302\n",
       "2   2012-02-02  lc3eMKXaEfw       0  26.812439\n",
       "3   2012-02-02  jUb8gELQApl       0  27.563202\n",
       "4   2012-02-02  PMa2VCrupOd       0  27.259949\n",
       "..         ...          ...     ...        ...\n",
       "346 2012-02-28  jmIPBj66vD6       0  26.785797\n",
       "347 2012-02-28  TEQlaapDQoK       0  27.028656\n",
       "348 2012-02-28  bL4ooGhyHRQ       0  26.023712\n",
       "349 2012-02-28  eIQbndfxQMb       0  27.649323\n",
       "350 2012-02-28  at6UHUQatSo       0        NaN\n",
       "\n",
       "[351 rows x 4 columns]"
      ]
     },
     "execution_count": 45,
     "metadata": {},
     "output_type": "execute_result"
    }
   ],
   "source": [
    "agg = aggregate(data, org_units)\n",
    "agg['t2m'] -= 273.15\n",
    "agg"
   ]
  },
  {
   "cell_type": "markdown",
   "metadata": {},
   "source": [
    "We see that the aggregated data contains temperature values for each organisation unit (`id`) and date in February 2012 that was included in the downloaded NetCDF data. "
   ]
  },
  {
   "cell_type": "markdown",
   "metadata": {},
   "source": []
  }
 ],
 "metadata": {
  "kernelspec": {
   "display_name": "climate-tools-new",
   "language": "python",
   "name": "python3"
  },
  "language_info": {
   "codemirror_mode": {
    "name": "ipython",
    "version": 3
   },
   "file_extension": ".py",
   "mimetype": "text/x-python",
   "name": "python",
   "nbconvert_exporter": "python",
   "pygments_lexer": "ipython3",
   "version": "3.13.7"
  }
 },
 "nbformat": 4,
 "nbformat_minor": 2
}
