{
 "cells": [
  {
   "cell_type": "markdown",
   "metadata": {},
   "source": [
    "---\n",
    "title: Data Import from WorldPop Population Data\n",
    "short_title: Population Data Import\n",
    "---\n",
    "\n",
    "In this notebook..."
   ]
  },
  {
   "cell_type": "markdown",
   "metadata": {},
   "source": [
    "----------------------------------------\n",
    "## Requirements\n",
    "\n",
    "### 1. Connect to DHIS2\n",
    "\n",
    "In order to run this notebook, you first need to connect to an instance of DHIS2. For our example, we will connect to a local instance of DHIS2 containing the standard Sierra Leone demo database, but you should be able to switch out the instance url and credentials to work directly with your own database. "
   ]
  },
  {
   "cell_type": "code",
   "execution_count": 2,
   "metadata": {},
   "outputs": [
    {
     "name": "stdout",
     "output_type": "stream",
     "text": [
      "Current DHIS2 version: 2.42.2\n"
     ]
    }
   ],
   "source": [
    "from dhis2_client import DHIS2Client\n",
    "from dhis2_client.settings import ClientSettings\n",
    "\n",
    "# Create DHIS2 client connection\n",
    "cfg = ClientSettings(\n",
    "  base_url=\"http://localhost:8080\",\n",
    "  username=\"admin\",\n",
    "  password=\"district\"\n",
    ")\n",
    "client = DHIS2Client(settings=cfg)\n",
    "\n",
    "# Verify connection\n",
    "info = client.get_system_info()\n",
    "print(\"Current DHIS2 version:\", info[\"version\"])"
   ]
  },
  {
   "cell_type": "markdown",
   "metadata": {},
   "source": [
    "### 2. DHIS2 data element\n",
    "\n",
    "We also need the data element for importing population data into. For now, we use the existing population data element of the Sierra Leone dummy database. To make this work with your local instance, replace the `data_element_id` below: "
   ]
  },
  {
   "cell_type": "code",
   "execution_count": 2,
   "metadata": {},
   "outputs": [],
   "source": [
    "data_element_id = 'WUg3MYWQ7pt'"
   ]
  },
  {
   "cell_type": "markdown",
   "metadata": {},
   "source": [
    "-------------\n",
    "## Workflow for importing WorldPop population data"
   ]
  },
  {
   "cell_type": "code",
   "execution_count": 4,
   "metadata": {},
   "outputs": [],
   "source": [
    "import dhis2eo\n",
    "import dhis2eo.org_units\n",
    "import dhis2eo.data.worldpop\n",
    "import dhis2eo.utils.aggregate"
   ]
  },
  {
   "cell_type": "markdown",
   "metadata": {},
   "source": [
    "### Step 1: Retrieve organisation units"
   ]
  },
  {
   "cell_type": "markdown",
   "metadata": {},
   "source": [
    "First we get the organisation units from DHIS2 and load them into a format we can work with: "
   ]
  },
  {
   "cell_type": "code",
   "execution_count": null,
   "metadata": {},
   "outputs": [
    {
     "data": {
      "text/html": [
       "<div>\n",
       "<style scoped>\n",
       "    .dataframe tbody tr th:only-of-type {\n",
       "        vertical-align: middle;\n",
       "    }\n",
       "\n",
       "    .dataframe tbody tr th {\n",
       "        vertical-align: top;\n",
       "    }\n",
       "\n",
       "    .dataframe thead th {\n",
       "        text-align: right;\n",
       "    }\n",
       "</style>\n",
       "<table border=\"1\" class=\"dataframe\">\n",
       "  <thead>\n",
       "    <tr style=\"text-align: right;\">\n",
       "      <th></th>\n",
       "      <th>org_unit_id</th>\n",
       "      <th>name</th>\n",
       "      <th>level</th>\n",
       "      <th>geometry</th>\n",
       "    </tr>\n",
       "  </thead>\n",
       "  <tbody>\n",
       "    <tr>\n",
       "      <th>0</th>\n",
       "      <td>O6uvpzGd5pu</td>\n",
       "      <td>Bo</td>\n",
       "      <td>2</td>\n",
       "      <td>POLYGON ((-11.5914 8.4875, -11.5906 8.4769, -1...</td>\n",
       "    </tr>\n",
       "    <tr>\n",
       "      <th>1</th>\n",
       "      <td>fdc6uOvgoji</td>\n",
       "      <td>Bombali</td>\n",
       "      <td>2</td>\n",
       "      <td>POLYGON ((-11.8091 9.2032, -11.8102 9.1944, -1...</td>\n",
       "    </tr>\n",
       "    <tr>\n",
       "      <th>2</th>\n",
       "      <td>lc3eMKXaEfw</td>\n",
       "      <td>Bonthe</td>\n",
       "      <td>2</td>\n",
       "      <td>MULTIPOLYGON (((-12.5568 7.3832, -12.5574 7.38...</td>\n",
       "    </tr>\n",
       "    <tr>\n",
       "      <th>3</th>\n",
       "      <td>jUb8gELQApl</td>\n",
       "      <td>Kailahun</td>\n",
       "      <td>2</td>\n",
       "      <td>POLYGON ((-10.7972 7.5866, -10.8002 7.5878, -1...</td>\n",
       "    </tr>\n",
       "    <tr>\n",
       "      <th>4</th>\n",
       "      <td>PMa2VCrupOd</td>\n",
       "      <td>Kambia</td>\n",
       "      <td>2</td>\n",
       "      <td>MULTIPOLYGON (((-13.1349 8.8471, -13.1343 8.84...</td>\n",
       "    </tr>\n",
       "    <tr>\n",
       "      <th>5</th>\n",
       "      <td>kJq2mPyFEHo</td>\n",
       "      <td>Kenema</td>\n",
       "      <td>2</td>\n",
       "      <td>POLYGON ((-11.3596 8.5317, -11.3513 8.5234, -1...</td>\n",
       "    </tr>\n",
       "    <tr>\n",
       "      <th>6</th>\n",
       "      <td>qhqAxPSTUXp</td>\n",
       "      <td>Koinadugu</td>\n",
       "      <td>2</td>\n",
       "      <td>POLYGON ((-10.585 9.0434, -10.5877 9.0432, -10...</td>\n",
       "    </tr>\n",
       "    <tr>\n",
       "      <th>7</th>\n",
       "      <td>Vth0fbpFcsO</td>\n",
       "      <td>Kono</td>\n",
       "      <td>2</td>\n",
       "      <td>POLYGON ((-10.585 9.0434, -10.5848 9.0432, -10...</td>\n",
       "    </tr>\n",
       "    <tr>\n",
       "      <th>8</th>\n",
       "      <td>jmIPBj66vD6</td>\n",
       "      <td>Moyamba</td>\n",
       "      <td>2</td>\n",
       "      <td>MULTIPOLYGON (((-12.6351 7.6613, -12.6346 7.66...</td>\n",
       "    </tr>\n",
       "    <tr>\n",
       "      <th>9</th>\n",
       "      <td>TEQlaapDQoK</td>\n",
       "      <td>Port Loko</td>\n",
       "      <td>2</td>\n",
       "      <td>MULTIPOLYGON (((-13.119 8.4718, -13.1174 8.470...</td>\n",
       "    </tr>\n",
       "    <tr>\n",
       "      <th>10</th>\n",
       "      <td>bL4ooGhyHRQ</td>\n",
       "      <td>Pujehun</td>\n",
       "      <td>2</td>\n",
       "      <td>MULTIPOLYGON (((-11.5346 6.944, -11.5338 6.943...</td>\n",
       "    </tr>\n",
       "    <tr>\n",
       "      <th>11</th>\n",
       "      <td>eIQbndfxQMb</td>\n",
       "      <td>Tonkolili</td>\n",
       "      <td>2</td>\n",
       "      <td>POLYGON ((-11.3546 8.6455, -11.357 8.6345, -11...</td>\n",
       "    </tr>\n",
       "    <tr>\n",
       "      <th>12</th>\n",
       "      <td>at6UHUQatSo</td>\n",
       "      <td>Western Area</td>\n",
       "      <td>2</td>\n",
       "      <td>MULTIPOLYGON (((-13.2435 8.1007, -13.2429 8.10...</td>\n",
       "    </tr>\n",
       "  </tbody>\n",
       "</table>\n",
       "</div>"
      ],
      "text/plain": [
       "    org_unit_id          name  level  \\\n",
       "0   O6uvpzGd5pu            Bo      2   \n",
       "1   fdc6uOvgoji       Bombali      2   \n",
       "2   lc3eMKXaEfw        Bonthe      2   \n",
       "3   jUb8gELQApl      Kailahun      2   \n",
       "4   PMa2VCrupOd        Kambia      2   \n",
       "5   kJq2mPyFEHo        Kenema      2   \n",
       "6   qhqAxPSTUXp     Koinadugu      2   \n",
       "7   Vth0fbpFcsO          Kono      2   \n",
       "8   jmIPBj66vD6       Moyamba      2   \n",
       "9   TEQlaapDQoK     Port Loko      2   \n",
       "10  bL4ooGhyHRQ       Pujehun      2   \n",
       "11  eIQbndfxQMb     Tonkolili      2   \n",
       "12  at6UHUQatSo  Western Area      2   \n",
       "\n",
       "                                             geometry  \n",
       "0   POLYGON ((-11.5914 8.4875, -11.5906 8.4769, -1...  \n",
       "1   POLYGON ((-11.8091 9.2032, -11.8102 9.1944, -1...  \n",
       "2   MULTIPOLYGON (((-12.5568 7.3832, -12.5574 7.38...  \n",
       "3   POLYGON ((-10.7972 7.5866, -10.8002 7.5878, -1...  \n",
       "4   MULTIPOLYGON (((-13.1349 8.8471, -13.1343 8.84...  \n",
       "5   POLYGON ((-11.3596 8.5317, -11.3513 8.5234, -1...  \n",
       "6   POLYGON ((-10.585 9.0434, -10.5877 9.0432, -10...  \n",
       "7   POLYGON ((-10.585 9.0434, -10.5848 9.0432, -10...  \n",
       "8   MULTIPOLYGON (((-12.6351 7.6613, -12.6346 7.66...  \n",
       "9   MULTIPOLYGON (((-13.119 8.4718, -13.1174 8.470...  \n",
       "10  MULTIPOLYGON (((-11.5346 6.944, -11.5338 6.943...  \n",
       "11  POLYGON ((-11.3546 8.6455, -11.357 8.6345, -11...  \n",
       "12  MULTIPOLYGON (((-13.2435 8.1007, -13.2429 8.10...  "
      ]
     },
     "execution_count": 5,
     "metadata": {},
     "output_type": "execute_result"
    }
   ],
   "source": [
    "org_units_geojson = client.get_org_units_geojson(level=2)\n",
    "org_units = dhis2eo.org_units.from_dhis2_geojson(org_units_geojson)\n",
    "org_units"
   ]
  },
  {
   "cell_type": "markdown",
   "metadata": {},
   "source": [
    "### Step 2: Download WorldPop data\n",
    "\n",
    "We provide a convenience function for downloading WorldPop historical and projected population data from the [WorldPop v2 dataset between 2015 and 2030](https://hub.worldpop.org/project/categories?id=3). Let's get the projected data for 2030:"
   ]
  },
  {
   "cell_type": "code",
   "execution_count": 5,
   "metadata": {},
   "outputs": [
    {
     "name": "stdout",
     "output_type": "stream",
     "text": [
      "dhis2eo.data.worldpop - INFO - Loading from cache: C:\\Users\\karimba\\AppData\\Local\\Temp\\sle_pop_2030_CN_100m_R2025A_v1.tif\n",
      "Population data <xarray.Dataset> Size: 54MB\n",
      "Dimensions:    (x: 3635, y: 3695)\n",
      "Coordinates:\n",
      "  * x          (x) float64 29kB -13.3 -13.3 -13.3 -13.3 ... -10.27 -10.27 -10.27\n",
      "  * y          (y) float64 30kB 10.0 9.999 9.998 9.997 ... 6.923 6.922 6.921\n",
      "    year       int64 8B 2030\n",
      "Data variables:\n",
      "    total_pop  (y, x) float32 54MB ...\n",
      "Attributes:\n",
      "    TIFFTAG_DOCUMENTNAME:      sle_pop_2030_CN_100m_R2025A_v1\n",
      "    TIFFTAG_IMAGEDESCRIPTION:  SLE population 2030 [WorldPop R2025A v1]\n",
      "    TIFFTAG_DATETIME:          2025-07-29 04:37:30\n",
      "    TIFFTAG_COPYRIGHT:         CC-BY-4.0\n",
      "    Description:               SLE population 2030 [WorldPop R2025A v1]\n",
      "    AREA_OR_POINT:             Area\n"
     ]
    }
   ],
   "source": [
    "year = 2030\n",
    "country_code = 'SLE'\n",
    "data = dhis2eo.data.worldpop.get_population_data(year, country_code)\n",
    "print(f'Population data {data}')"
   ]
  },
  {
   "cell_type": "markdown",
   "metadata": {},
   "source": [
    "### Step 3: Aggregate the data to organisation units\n",
    "\n",
    "The next step is using the `aggregate.to_org_units` convenience function to aggregate the climate data to a set of input organisation units. Let's try it for our previously downloaded test data:"
   ]
  },
  {
   "cell_type": "code",
   "execution_count": null,
   "metadata": {},
   "outputs": [
    {
     "name": "stdout",
     "output_type": "stream",
     "text": [
      "    org_unit_id  year     total_pop\n",
      "0   O6uvpzGd5pu  2030  1.050703e+06\n",
      "1   fdc6uOvgoji  2030  7.419016e+05\n",
      "2   lc3eMKXaEfw  2030  4.229886e+05\n",
      "3   jUb8gELQApl  2030  7.207222e+05\n",
      "4   PMa2VCrupOd  2030  4.757711e+05\n",
      "5   kJq2mPyFEHo  2030  1.011293e+06\n",
      "6   qhqAxPSTUXp  2030  4.814348e+05\n",
      "7   Vth0fbpFcsO  2030  8.176847e+05\n",
      "8   jmIPBj66vD6  2030  4.530076e+05\n",
      "9   TEQlaapDQoK  2030  8.062628e+05\n",
      "10  bL4ooGhyHRQ  2030  5.417854e+05\n",
      "11  eIQbndfxQMb  2030  6.943592e+05\n",
      "12  at6UHUQatSo  2030  1.387464e+06\n"
     ]
    }
   ],
   "source": [
    "variables = {'total_pop': 'sum'}\n",
    "agg = dhis2eo.utils.aggregate.to_org_units(data, org_units, variables=variables)\n",
    "print(agg)"
   ]
  },
  {
   "cell_type": "markdown",
   "metadata": {},
   "source": [
    "### Step 4: Import yearly population data into DHIS2\n",
    "\n",
    "Finally, let's combine these steps to download, aggregate, and import data to DHIS2 for a range of recent years available in the WorldPop dataset: "
   ]
  },
  {
   "cell_type": "code",
   "execution_count": null,
   "metadata": {},
   "outputs": [
    {
     "name": "stdout",
     "output_type": "stream",
     "text": [
      "Year: 2015\n",
      "dhis2eo.data.worldpop - INFO - Loading from cache: C:\\Users\\karimba\\AppData\\Local\\Temp\\sle_pop_2015_CN_100m_R2025A_v1.tif\n",
      "Importing to DHIS2...\n",
      "Results: {'imported': 0, 'updated': 0, 'ignored': 13, 'deleted': 0}\n",
      "Year: 2016\n",
      "dhis2eo.data.worldpop - INFO - Loading from cache: C:\\Users\\karimba\\AppData\\Local\\Temp\\sle_pop_2016_CN_100m_R2025A_v1.tif\n",
      "Importing to DHIS2...\n",
      "Results: {'imported': 0, 'updated': 0, 'ignored': 13, 'deleted': 0}\n",
      "Year: 2017\n",
      "dhis2eo.data.worldpop - INFO - Loading from cache: C:\\Users\\karimba\\AppData\\Local\\Temp\\sle_pop_2017_CN_100m_R2025A_v1.tif\n",
      "Importing to DHIS2...\n",
      "Results: {'imported': 0, 'updated': 0, 'ignored': 13, 'deleted': 0}\n",
      "Year: 2018\n",
      "dhis2eo.data.worldpop - INFO - Loading from cache: C:\\Users\\karimba\\AppData\\Local\\Temp\\sle_pop_2018_CN_100m_R2025A_v1.tif\n",
      "Importing to DHIS2...\n",
      "Results: {'imported': 0, 'updated': 0, 'ignored': 13, 'deleted': 0}\n",
      "Year: 2019\n",
      "dhis2eo.data.worldpop - INFO - Loading from cache: C:\\Users\\karimba\\AppData\\Local\\Temp\\sle_pop_2019_CN_100m_R2025A_v1.tif\n",
      "Importing to DHIS2...\n",
      "Results: {'imported': 0, 'updated': 0, 'ignored': 13, 'deleted': 0}\n",
      "Year: 2020\n",
      "dhis2eo.data.worldpop - INFO - Loading from cache: C:\\Users\\karimba\\AppData\\Local\\Temp\\sle_pop_2020_CN_100m_R2025A_v1.tif\n",
      "Importing to DHIS2...\n",
      "Results: {'imported': 0, 'updated': 0, 'ignored': 13, 'deleted': 0}\n",
      "Year: 2021\n",
      "dhis2eo.data.worldpop - INFO - Loading from cache: C:\\Users\\karimba\\AppData\\Local\\Temp\\sle_pop_2021_CN_100m_R2025A_v1.tif\n",
      "Importing to DHIS2...\n",
      "Results: {'imported': 0, 'updated': 0, 'ignored': 13, 'deleted': 0}\n",
      "Year: 2022\n",
      "dhis2eo.data.worldpop - INFO - Loading from cache: C:\\Users\\karimba\\AppData\\Local\\Temp\\sle_pop_2022_CN_100m_R2025A_v1.tif\n",
      "Importing to DHIS2...\n",
      "Results: {'imported': 0, 'updated': 0, 'ignored': 13, 'deleted': 0}\n",
      "Year: 2023\n",
      "dhis2eo.data.worldpop - INFO - Loading from cache: C:\\Users\\karimba\\AppData\\Local\\Temp\\sle_pop_2023_CN_100m_R2025A_v1.tif\n",
      "Importing to DHIS2...\n",
      "Results: {'imported': 0, 'updated': 0, 'ignored': 13, 'deleted': 0}\n",
      "Year: 2024\n",
      "dhis2eo.data.worldpop - INFO - Loading from cache: C:\\Users\\karimba\\AppData\\Local\\Temp\\sle_pop_2024_CN_100m_R2025A_v1.tif\n",
      "Importing to DHIS2...\n",
      "Results: {'imported': 0, 'updated': 0, 'ignored': 13, 'deleted': 0}\n",
      "Year: 2025\n",
      "dhis2eo.data.worldpop - INFO - Loading from cache: C:\\Users\\karimba\\AppData\\Local\\Temp\\sle_pop_2025_CN_100m_R2025A_v1.tif\n",
      "Importing to DHIS2...\n",
      "Results: {'imported': 0, 'updated': 0, 'ignored': 13, 'deleted': 0}\n"
     ]
    }
   ],
   "source": [
    "from dhis2eo.integrations.pandas import dataframe_to_dhis2_json\n",
    "for year in range(2015, 2025+1):\n",
    "    print(f'Year: {year}')\n",
    "    # Download data...\n",
    "    data = dhis2eo.data.worldpop.get_population_data(year, country_code)\n",
    "    # Aggregate data...\n",
    "    variables = {'total_pop': 'sum'}\n",
    "    agg = dhis2eo.utils.aggregate.to_org_units(data, org_units, variables=variables)\n",
    "    # Convert and import to DHIS2...\n",
    "    payload = dataframe_to_dhis2_json(\n",
    "        df=agg,\n",
    "        org_unit_col='org_unit_id',\n",
    "        period_col='year',\n",
    "        value_col='total_pop',\n",
    "        data_element_id=data_element_id,\n",
    "    )\n",
    "    print('Importing to DHIS2...')\n",
    "    res = client.post(\"/api/dataValueSets\", json=payload)\n",
    "    print(\"Results:\", res['response']['importCount'])"
   ]
  }
 ],
 "metadata": {
  "kernelspec": {
   "display_name": "climate-tools-new",
   "language": "python",
   "name": "python3"
  },
  "language_info": {
   "codemirror_mode": {
    "name": "ipython",
    "version": 3
   },
   "file_extension": ".py",
   "mimetype": "text/x-python",
   "name": "python",
   "nbconvert_exporter": "python",
   "pygments_lexer": "ipython3",
   "version": "3.13.7"
  }
 },
 "nbformat": 4,
 "nbformat_minor": 2
}
