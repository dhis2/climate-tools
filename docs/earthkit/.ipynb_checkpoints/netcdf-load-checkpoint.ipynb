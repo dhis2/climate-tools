{
 "cells": [
  {
   "cell_type": "code",
   "execution_count": null,
   "id": "d56cd373-14f4-4b9f-9cca-01a9f0072410",
   "metadata": {},
   "outputs": [],
   "source": [
    "This is some text\n"
   ]
  },
  {
   "cell_type": "code",
   "execution_count": null,
   "id": "5b3a850c-16b7-4633-8f31-f94ee157747e",
   "metadata": {},
   "outputs": [],
   "source": []
  }
 ],
 "metadata": {
  "kernelspec": {
   "display_name": "Python 3 (ipykernel)",
   "language": "python",
   "name": "python3"
  },
  "language_info": {
   "codemirror_mode": {
    "name": "ipython",
    "version": 3
   },
   "file_extension": ".py",
   "mimetype": "text/x-python",
   "name": "python",
   "nbconvert_exporter": "python",
   "pygments_lexer": "ipython3",
   "version": "3.10.14"
  }
 },
 "nbformat": 4,
 "nbformat_minor": 5
}
